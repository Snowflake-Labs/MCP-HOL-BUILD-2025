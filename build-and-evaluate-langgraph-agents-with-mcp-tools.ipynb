{
 "cells": [
  {
   "cell_type": "markdown",
   "id": "03ce3c0b",
   "metadata": {},
   "source": [
    "# Evaluate and Trace LangGraph MCP Tool Selection\n",
    "\n",
    "This notebook demonstrates how to use TruLens to trace and evaluate LangGraph applications that use Model Context Protocol (MCP) tools.\n",
    "\n",
    "## Overview\n",
    "\n",
    "We'll build a health research agent that uses MCP tools to query:\n",
    "- PubMed for medical literature\n",
    "- Clinical trials databases for trial information\n",
    "\n",
    "TruLens will automatically trace all tool calls, showing:\n",
    "- Which MCP tools are being called\n",
    "- Input arguments and outputs\n",
    "- Execution time and errors\n",
    "- Full conversation flow in the dashboard\n",
    "\n",
    "## Setup\n",
    "\n",
    "First, start by updating your account settings to create an allow-all network policy, and enable cross-region inference for calling `claude-sonnet-4-5`. You can do this by copying and running `alter_account_settings.sql` in a Snowflake SQL worksheet.\n"
   ]
  },
  {
   "cell_type": "markdown",
   "id": "ffa2d1b8",
   "metadata": {},
   "source": [
    "## Get AI-ready data\n",
    "\n",
    "Then, in your snowflake accoount access the Clinical Trials and PubMed listings and load them to your account following the below steps:\n",
    "\n",
    "1. Sign in to Snowsight.\n",
    "\n",
    "2. In the navigation menu, select Marketplace.\n",
    "\n",
    "3. Search or browse to the listing you want to access.\n",
    "\n",
    "4. Select Get to access a listing already available in your region. A dialog opens with details about the listing. If you have to request the listing to be replicated to your region, select Request.\n",
    "\n",
    "5. (Optional) Specify a database name for the data in the listing.\n",
    "\n",
    "6. (Optional) Add roles to grant access to the database created from the listing.\n",
    "\n",
    "7. Select Get.\n",
    "\n",
    "8. In the confirmation dialog that appears, select Open to open a Snowsight worksheet with an example query in a new tab, or select Done."
   ]
  },
  {
   "cell_type": "code",
   "execution_count": null,
   "id": "de3f923e",
   "metadata": {},
   "outputs": [],
   "source": [
    "import os\n",
    "# Configure API keys and MCP server connection\n",
    "os.environ[\"OPENAI_API_KEY\"] = \"sk-proj-...\"\n",
    "os.environ[\"SNOWFLAKE_PAT\"] = \"ey...\"\n",
    "os.environ[\"SNOWFLAKE_ACCOUNT\"] = \"...\"\n",
    "os.environ[\"SNOWFLAKE_USER\"] = \"...\"\n",
    "os.environ[\"SNOWFLAKE_MCP_SERVER_URL\"] = \"https://<account-id>.snowflakecomputing.com/api/v2/databases/health_db/schemas/mcp/mcp-servers/health_mcp_server\""
   ]
  },
  {
   "cell_type": "code",
   "execution_count": null,
   "id": "e9b95e51",
   "metadata": {},
   "outputs": [],
   "source": [
    "from snowflake.snowpark import Session\n",
    "import os\n",
    "\n",
    "snowflake_connection_parameters = {\n",
    "    \"account\": os.getenv(\"SNOWFLAKE_ACCOUNT\"),\n",
    "    \"user\": os.getenv(\"SNOWFLAKE_USER\"),\n",
    "    \"password\": os.getenv(\"SNOWFLAKE_PAT\"),\n",
    "    \"database\": \"health_db\",\n",
    "    \"schema\": \"public\",\n",
    "}\n",
    "\n",
    "snowpark_session = Session.builder.configs(\n",
    "    snowflake_connection_parameters\n",
    ").create()"
   ]
  },
  {
   "cell_type": "markdown",
   "id": "d0933e60",
   "metadata": {},
   "source": [
    "## Create MCP Client and Get Tools\n",
    "\n",
    "We'll use the `MultiServerMCPClient` from `langchain_mcp_adapters` to connect to the health research MCP server and retrieve available tools.\n"
   ]
  },
  {
   "cell_type": "code",
   "execution_count": null,
   "id": "5fef2bda",
   "metadata": {},
   "outputs": [],
   "source": [
    "from langchain_mcp_adapters.client import MultiServerMCPClient\n",
    "from langchain_snowflake import ChatSnowflake\n",
    "from langchain_openai import ChatOpenAI\n",
    "from langgraph.graph import START\n",
    "from langgraph.graph import MessagesState\n",
    "from langgraph.graph import StateGraph\n",
    "from langgraph.prebuilt import ToolNode\n",
    "from langgraph.prebuilt import tools_condition\n",
    "\n",
    "client = MultiServerMCPClient({\n",
    "    \"health_research\": {\n",
    "        \"transport\": \"streamable_http\",\n",
    "        \"url\": os.environ[\"SNOWFLAKE_MCP_SERVER_URL\"],\n",
    "        \"headers\": {\"Authorization\": f\"Bearer {os.environ['SNOWFLAKE_PAT']}\"},\n",
    "    }\n",
    "})\n",
    "tools = await client.get_tools()\n",
    "model = ChatOpenAI(model=\"gpt-4o\")\n",
    "# model = ChatSnowflake(model=\"claude-sonnet-4-5\", snowpark_session=snowpark_session)"
   ]
  },
  {
   "cell_type": "markdown",
   "id": "f7abcaa0",
   "metadata": {},
   "source": [
    "## Build the LangGraph Agent\n",
    "\n",
    "Now we'll create a LangGraph application with:\n",
    "1. **call_model** node - The LLM that decides which tools to use\n",
    "2. **tools** node - Executes the selected MCP tools\n",
    "3. **tools_condition** - Routes between the model and tools\n",
    "\n",
    "The graph will loop between the model and tools until the agent has enough information to answer the question.\n"
   ]
  },
  {
   "cell_type": "code",
   "execution_count": null,
   "id": "6aa92cc8",
   "metadata": {},
   "outputs": [],
   "source": [
    "import asyncio\n",
    "\n",
    "# Define the call_model function\n",
    "async def call_model(state: MessagesState):\n",
    "    response = await model.bind_tools(tools).ainvoke(state[\"messages\"])\n",
    "    return {\"messages\": response}\n",
    "\n",
    "\n",
    "# Create the StateGraph\n",
    "builder = StateGraph(MessagesState)\n",
    "builder.add_node(call_model)\n",
    "builder.add_node(ToolNode(tools))\n",
    "builder.add_edge(START, \"call_model\")\n",
    "builder.add_conditional_edges(\n",
    "    \"call_model\",\n",
    "    tools_condition,\n",
    ")\n",
    "builder.add_edge(\"tools\", \"call_model\")\n",
    "graph = builder.compile()\n",
    "\n",
    "class Agent:\n",
    "    def __init__(self, graph):\n",
    "        import nest_asyncio\n",
    "        nest_asyncio.apply()\n",
    "        self.graph = graph\n",
    "\n",
    "    async def ainvoke(self, messages):\n",
    "        \"\"\"Async version\"\"\"\n",
    "        return await self.graph.ainvoke({\"messages\": messages})\n",
    "    \n",
    "    def invoke(self, messages):\n",
    "        \"\"\"Sync wrapper around async method\"\"\"\n",
    "        return asyncio.run(self.ainvoke(messages))\n",
    "\n",
    "agent = Agent(graph)"
   ]
  },
  {
   "cell_type": "code",
   "execution_count": null,
   "id": "9a2ec417",
   "metadata": {},
   "outputs": [],
   "source": [
    "# response = agent.invoke(\"How do semaglutide and tirzepatide compare in published studies, and what head-to-head clinical trials are recruiting patients?\")"
   ]
  },
  {
   "cell_type": "markdown",
   "id": "d7a8dd2b",
   "metadata": {},
   "source": [
    "## Initialize TruLens Session\n",
    "\n",
    "Set up TruLens to store traces and evaluations in Snowflake."
   ]
  },
  {
   "cell_type": "code",
   "execution_count": null,
   "id": "93b1a461",
   "metadata": {},
   "outputs": [],
   "source": [
    "from snowflake.snowpark import Session\n",
    "from trulens.connectors.snowflake import SnowflakeConnector\n",
    "\n",
    "sf_connector = SnowflakeConnector(snowpark_session=snowpark_session)"
   ]
  },
  {
   "cell_type": "markdown",
   "id": "4f8c7315",
   "metadata": {},
   "source": [
    "## Create Tool Selection Evaluations"
   ]
  },
  {
   "cell_type": "code",
   "execution_count": null,
   "id": "b2676fa2",
   "metadata": {},
   "outputs": [],
   "source": [
    "from trulens.core.feedback.custom_metric import MetricConfig\n",
    "from trulens.core.feedback.selector import Selector\n",
    "from trulens.providers.cortex import Cortex\n",
    "\n",
    "provider = Cortex(\n",
    "    model_engine=\"claude-sonnet-4-5\", snowpark_session=snowpark_session\n",
    ")\n",
    "f_tool_selection = MetricConfig(\n",
    "    metric_name = \"Tool Selection\",\n",
    "    metric_implementation = provider.tool_selection_with_cot_reasons,\n",
    "    selectors={\n",
    "        \"trace\": Selector(trace_level=True),\n",
    "    },\n",
    ")\n",
    "\n",
    "f_tool_calling = MetricConfig(\n",
    "    metric_name = \"Tool Calling\",\n",
    "    metric_implementation = provider.tool_calling_with_cot_reasons,\n",
    "    selectors={\n",
    "        \"trace\": Selector(trace_level=True),\n",
    "    },\n",
    ")\n",
    "\n",
    "metrics_to_compute = [\n",
    "    f_tool_selection,\n",
    "    f_tool_calling,\n",
    "]"
   ]
  },
  {
   "cell_type": "markdown",
   "id": "98c060a5",
   "metadata": {},
   "source": [
    "## Record Agent Execution with TruLens\n",
    "\n",
    "Wrap the LangGraph application with `TruGraph` to automatically instrument and trace all executions.\n",
    "\n",
    "TruLens will capture:\n",
    "- Each node execution in the graph\n",
    "- MCP tool calls with their names (e.g., `pubmed_search`, `clinical_trials_search`)\n",
    "- Input/output states at each step\n",
    "- LLM generation calls\n",
    "- Tool routing decisions\n",
    "\n",
    "The trace will show the complete flow of the agent's reasoning and tool usage.\n"
   ]
  },
  {
   "cell_type": "code",
   "execution_count": null,
   "id": "17deb326",
   "metadata": {},
   "outputs": [],
   "source": [
    "from trulens.apps.langgraph import TruGraph\n",
    "\n",
    "tru_app = TruGraph(\n",
    "    app=agent,\n",
    "    app_name=\"healthagent8\",\n",
    "    app_version=\"base\",\n",
    "    main_method=agent.invoke,\n",
    "    connector=sf_connector,\n",
    ")"
   ]
  },
  {
   "cell_type": "code",
   "execution_count": null,
   "id": "388d31b5",
   "metadata": {},
   "outputs": [],
   "source": [
    "import pandas as pd\n",
    "\n",
    "queries = [\"How do semaglutide and tirzepatide compare in published studies, and what head-to-head clinical trials are recruiting patients?\",\n",
    "\"What are the latest clinical trials for Alzheimer's disease?\",\n",
    "\"What is the primary indicator for the drug Xeljanz?\"]\n",
    "\n",
    "queries_df = pd.DataFrame(queries, columns=[\"query\"])"
   ]
  },
  {
   "cell_type": "code",
   "execution_count": null,
   "id": "cda6b840",
   "metadata": {},
   "outputs": [],
   "source": [
    "import uuid\n",
    "\n",
    "from trulens.core.run import Run\n",
    "from trulens.core.run import RunConfig\n",
    "\n",
    "run_name = f\"health_queries_run_{uuid.uuid4()}\"\n",
    "\n",
    "run_config = RunConfig(\n",
    "    run_name=run_name,\n",
    "    dataset_name=\"health_research_queries\",\n",
    "    source_type=\"DATAFRAME\",\n",
    "    dataset_spec={\"RECORD_ROOT.INPUT\": \"query\"},\n",
    ")\n",
    "\n",
    "run: Run = tru_app.add_run(run_config=run_config)"
   ]
  },
  {
   "cell_type": "code",
   "execution_count": null,
   "id": "3ea0738c",
   "metadata": {},
   "outputs": [],
   "source": [
    "run.start(input_df=queries_df)"
   ]
  },
  {
   "cell_type": "markdown",
   "id": "8aae8f57",
   "metadata": {},
   "source": [
    "## Compute Metrics"
   ]
  },
  {
   "cell_type": "code",
   "execution_count": null,
   "id": "000020f8",
   "metadata": {},
   "outputs": [],
   "source": [
    "import time\n",
    "\n",
    "while run.get_status() != \"INVOCATION_COMPLETED\":\n",
    "    time.sleep(3)\n",
    "\n",
    "run.compute_metrics(metrics_to_compute)"
   ]
  },
  {
   "cell_type": "code",
   "execution_count": null,
   "id": "04ddede9",
   "metadata": {},
   "outputs": [],
   "source": [
    "run.get_status()"
   ]
  },
  {
   "cell_type": "markdown",
   "id": "36c2f3a3",
   "metadata": {},
   "source": [
    "## View the Agent Response\n",
    "\n",
    "Let's see what the agent found:\n"
   ]
  }
 ],
 "metadata": {
  "kernelspec": {
   "display_name": "trulens_test",
   "language": "python",
   "name": "python3"
  },
  "language_info": {
   "codemirror_mode": {
    "name": "ipython",
    "version": 3
   },
   "file_extension": ".py",
   "mimetype": "text/x-python",
   "name": "python",
   "nbconvert_exporter": "python",
   "pygments_lexer": "ipython3",
   "version": "3.11.13"
  }
 },
 "nbformat": 4,
 "nbformat_minor": 5
}
